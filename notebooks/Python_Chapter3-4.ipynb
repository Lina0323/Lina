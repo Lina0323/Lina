{
 "cells": [
  {
   "cell_type": "code",
   "execution_count": 1,
   "id": "2b178eb8-c7cb-4310-bcbb-f79c918c7990",
   "metadata": {},
   "outputs": [],
   "source": [
    "a = (4, 5, 6)"
   ]
  },
  {
   "cell_type": "code",
   "execution_count": 2,
   "id": "b036a3fe-0749-4d25-b7c0-7aaaa4c399f3",
   "metadata": {},
   "outputs": [],
   "source": [
    "(a, b, c) = a"
   ]
  },
  {
   "cell_type": "code",
   "execution_count": 3,
   "id": "c75a7414-c9d7-4876-8167-ff5404b49ab3",
   "metadata": {},
   "outputs": [
    {
     "data": {
      "text/plain": [
       "5"
      ]
     },
     "execution_count": 3,
     "metadata": {},
     "output_type": "execute_result"
    }
   ],
   "source": [
    "b"
   ]
  },
  {
   "cell_type": "code",
   "execution_count": 4,
   "id": "57644d0c-8448-43fe-8bc2-6fb67802b961",
   "metadata": {},
   "outputs": [],
   "source": [
    "a = (4, 5, (6, 7))"
   ]
  },
  {
   "cell_type": "code",
   "execution_count": 6,
   "id": "02b95d12-49e8-48e3-8106-38496da67d58",
   "metadata": {},
   "outputs": [],
   "source": [
    "(a, b, (c, d)) = a"
   ]
  },
  {
   "cell_type": "code",
   "execution_count": 7,
   "id": "4c0aa780-4520-4d5c-b778-78dcb6c38990",
   "metadata": {},
   "outputs": [
    {
     "data": {
      "text/plain": [
       "6"
      ]
     },
     "execution_count": 7,
     "metadata": {},
     "output_type": "execute_result"
    }
   ],
   "source": [
    "c"
   ]
  },
  {
   "cell_type": "code",
   "execution_count": 11,
   "id": "aa913eb6-d9ca-4a7a-afe1-492175c5e7eb",
   "metadata": {},
   "outputs": [],
   "source": [
    "a = (4, 5, 6, 7)"
   ]
  },
  {
   "cell_type": "code",
   "execution_count": 12,
   "id": "fcdd15e5-e8f4-4aa8-bd44-a151d508b266",
   "metadata": {},
   "outputs": [],
   "source": [
    "a, b, *rest = a"
   ]
  },
  {
   "cell_type": "code",
   "execution_count": 13,
   "id": "83e26cd5-4729-467d-a0b8-d4a4494d6dee",
   "metadata": {},
   "outputs": [
    {
     "data": {
      "text/plain": [
       "(4, 5)"
      ]
     },
     "execution_count": 13,
     "metadata": {},
     "output_type": "execute_result"
    }
   ],
   "source": [
    "a, b"
   ]
  },
  {
   "cell_type": "code",
   "execution_count": 14,
   "id": "73962e27-efbf-4864-a621-d1c99f593846",
   "metadata": {},
   "outputs": [],
   "source": [
    "a = (4, 5, 5, 5, 5, 6, 7)"
   ]
  },
  {
   "cell_type": "code",
   "execution_count": 15,
   "id": "1a14d91b-dd0d-4a9a-8792-3d81d33e451a",
   "metadata": {},
   "outputs": [
    {
     "data": {
      "text/plain": [
       "4"
      ]
     },
     "execution_count": 15,
     "metadata": {},
     "output_type": "execute_result"
    }
   ],
   "source": [
    "a.count(5)"
   ]
  },
  {
   "cell_type": "code",
   "execution_count": 16,
   "id": "3a57f070-17fd-4ed4-8cd2-d1e631aaf3d4",
   "metadata": {},
   "outputs": [],
   "source": [
    "a = (4, 5, 6, 7)"
   ]
  },
  {
   "cell_type": "code",
   "execution_count": 17,
   "id": "46d3de7d-0462-421b-a8fe-2e794a1befce",
   "metadata": {},
   "outputs": [],
   "source": [
    "b_list = list(a)"
   ]
  },
  {
   "cell_type": "code",
   "execution_count": 18,
   "id": "4d2cc945-f9e5-4495-8d72-dcdcf359d367",
   "metadata": {},
   "outputs": [
    {
     "data": {
      "text/plain": [
       "[4, 5, 6, 7]"
      ]
     },
     "execution_count": 18,
     "metadata": {},
     "output_type": "execute_result"
    }
   ],
   "source": [
    "b_list"
   ]
  },
  {
   "cell_type": "code",
   "execution_count": 19,
   "id": "4367008f-166b-480c-b40c-b46642e3a560",
   "metadata": {},
   "outputs": [],
   "source": [
    "b_list[2]=8"
   ]
  },
  {
   "cell_type": "code",
   "execution_count": 20,
   "id": "80c02714-c15b-4290-8a9f-a276dee5a053",
   "metadata": {},
   "outputs": [
    {
     "data": {
      "text/plain": [
       "[4, 5, 8, 7]"
      ]
     },
     "execution_count": 20,
     "metadata": {},
     "output_type": "execute_result"
    }
   ],
   "source": [
    "b_list"
   ]
  },
  {
   "cell_type": "code",
   "execution_count": 21,
   "id": "0bc2a20e-63a2-43c8-93d9-88438bf2a526",
   "metadata": {},
   "outputs": [],
   "source": [
    "b_list.append(8)"
   ]
  },
  {
   "cell_type": "code",
   "execution_count": 22,
   "id": "03a93bbe-bc7c-4d32-8940-e2f3cf4d1462",
   "metadata": {},
   "outputs": [
    {
     "data": {
      "text/plain": [
       "[4, 5, 8, 7, 8]"
      ]
     },
     "execution_count": 22,
     "metadata": {},
     "output_type": "execute_result"
    }
   ],
   "source": [
    "b_list"
   ]
  },
  {
   "cell_type": "code",
   "execution_count": 23,
   "id": "1c073aa8-97e3-42a7-9a4e-eeccc1acec9d",
   "metadata": {},
   "outputs": [],
   "source": [
    "b_list.insert(1,2)"
   ]
  },
  {
   "cell_type": "code",
   "execution_count": 24,
   "id": "d66a8bac-52b6-4fce-bdb6-73e3494967cb",
   "metadata": {},
   "outputs": [
    {
     "data": {
      "text/plain": [
       "[4, 2, 5, 8, 7, 8]"
      ]
     },
     "execution_count": 24,
     "metadata": {},
     "output_type": "execute_result"
    }
   ],
   "source": [
    "b_list"
   ]
  },
  {
   "cell_type": "code",
   "execution_count": 25,
   "id": "705d1566-f776-4161-8097-7c67705ddc6e",
   "metadata": {},
   "outputs": [
    {
     "data": {
      "text/plain": [
       "8"
      ]
     },
     "execution_count": 25,
     "metadata": {},
     "output_type": "execute_result"
    }
   ],
   "source": [
    "b_list.pop(3)"
   ]
  },
  {
   "cell_type": "code",
   "execution_count": 26,
   "id": "b27d0923-c1b3-4c1e-a058-6b8dc1fbe562",
   "metadata": {},
   "outputs": [
    {
     "data": {
      "text/plain": [
       "[4, 2, 5, 7, 8]"
      ]
     },
     "execution_count": 26,
     "metadata": {},
     "output_type": "execute_result"
    }
   ],
   "source": [
    "b_list"
   ]
  },
  {
   "cell_type": "code",
   "execution_count": 28,
   "id": "73686e75-93a3-4bf8-93fb-332b03ea75df",
   "metadata": {},
   "outputs": [],
   "source": [
    "b_list.append(5)"
   ]
  },
  {
   "cell_type": "code",
   "execution_count": 29,
   "id": "5c4efa89-707b-478f-9649-fe342df66d64",
   "metadata": {},
   "outputs": [
    {
     "data": {
      "text/plain": [
       "[4, 2, 5, 7, 8, 5]"
      ]
     },
     "execution_count": 29,
     "metadata": {},
     "output_type": "execute_result"
    }
   ],
   "source": [
    "b_list"
   ]
  },
  {
   "cell_type": "code",
   "execution_count": 30,
   "id": "ca229ea9-1243-4d4c-9f9d-2a5074159dab",
   "metadata": {},
   "outputs": [],
   "source": [
    "b_list.remove(5)"
   ]
  },
  {
   "cell_type": "code",
   "execution_count": 31,
   "id": "69687118-cd4e-45b7-a6d2-1b5082a919b1",
   "metadata": {},
   "outputs": [
    {
     "data": {
      "text/plain": [
       "[4, 2, 7, 8, 5]"
      ]
     },
     "execution_count": 31,
     "metadata": {},
     "output_type": "execute_result"
    }
   ],
   "source": [
    "b_list"
   ]
  },
  {
   "cell_type": "code",
   "execution_count": 32,
   "id": "68d6a9f8-a9f1-4115-97c4-06e5babb8e05",
   "metadata": {},
   "outputs": [
    {
     "data": {
      "text/plain": [
       "True"
      ]
     },
     "execution_count": 32,
     "metadata": {},
     "output_type": "execute_result"
    }
   ],
   "source": [
    "2 in b_list"
   ]
  },
  {
   "cell_type": "code",
   "execution_count": 33,
   "id": "6a7f9fa7-4b21-450e-b655-c9bdfd356144",
   "metadata": {},
   "outputs": [
    {
     "data": {
      "text/plain": [
       "False"
      ]
     },
     "execution_count": 33,
     "metadata": {},
     "output_type": "execute_result"
    }
   ],
   "source": [
    "7 not in b_list"
   ]
  },
  {
   "cell_type": "code",
   "execution_count": 34,
   "id": "fa9fffda-a62f-4b1d-ab97-6a0b1b47fd66",
   "metadata": {},
   "outputs": [],
   "source": [
    "a = [4, 5, 6, 7]"
   ]
  },
  {
   "cell_type": "code",
   "execution_count": 35,
   "id": "3cab188d-456f-4020-bbcd-1715a7ee3cbd",
   "metadata": {},
   "outputs": [],
   "source": [
    "a.extend([8,9,(10, 11)])"
   ]
  },
  {
   "cell_type": "code",
   "execution_count": 36,
   "id": "1ed9a057-f930-4ea6-82e0-287c890d0578",
   "metadata": {},
   "outputs": [
    {
     "data": {
      "text/plain": [
       "[4, 5, 6, 7, 8, 9, (10, 11)]"
      ]
     },
     "execution_count": 36,
     "metadata": {},
     "output_type": "execute_result"
    }
   ],
   "source": [
    "a"
   ]
  },
  {
   "cell_type": "code",
   "execution_count": 38,
   "id": "052ca80b-73b4-4e8f-ab3b-9ccc874b866d",
   "metadata": {},
   "outputs": [],
   "source": [
    "a = [4,8, 9, 6, 5]"
   ]
  },
  {
   "cell_type": "code",
   "execution_count": 40,
   "id": "3fc0d167-5d1c-429d-9878-94eed165aecf",
   "metadata": {},
   "outputs": [],
   "source": [
    "a.sort()"
   ]
  },
  {
   "cell_type": "code",
   "execution_count": 41,
   "id": "fbdd1acd-8c1d-48ff-be4a-94e212886007",
   "metadata": {},
   "outputs": [
    {
     "data": {
      "text/plain": [
       "[4, 5, 6, 8, 9]"
      ]
     },
     "execution_count": 41,
     "metadata": {},
     "output_type": "execute_result"
    }
   ],
   "source": [
    "a"
   ]
  },
  {
   "cell_type": "code",
   "execution_count": 43,
   "id": "320b07be-54c3-4099-b397-ef2170fb7fb3",
   "metadata": {},
   "outputs": [],
   "source": [
    "a=['apple', 'bag', 'fork', 'hospital']"
   ]
  },
  {
   "cell_type": "code",
   "execution_count": 44,
   "id": "e8766133-7ea8-458c-8332-b52351c321f7",
   "metadata": {},
   "outputs": [],
   "source": [
    "a.sort(key=len)"
   ]
  },
  {
   "cell_type": "code",
   "execution_count": 45,
   "id": "af064ba4-a523-4ebe-be9f-15a4e962dea9",
   "metadata": {},
   "outputs": [
    {
     "data": {
      "text/plain": [
       "['bag', 'fork', 'apple', 'hospital']"
      ]
     },
     "execution_count": 45,
     "metadata": {},
     "output_type": "execute_result"
    }
   ],
   "source": [
    "a"
   ]
  },
  {
   "cell_type": "code",
   "execution_count": 46,
   "id": "86682970-3893-4ce7-828d-4bac9f3b849b",
   "metadata": {},
   "outputs": [],
   "source": [
    "import bisect"
   ]
  },
  {
   "cell_type": "code",
   "execution_count": 47,
   "id": "93b54ac2-385c-41d6-80db-69b48edb4b89",
   "metadata": {},
   "outputs": [],
   "source": [
    "a = [2, 4, 5, 6, 7]"
   ]
  },
  {
   "cell_type": "code",
   "execution_count": 48,
   "id": "1229ac56-7f14-4b77-af9a-061ae4ce098b",
   "metadata": {},
   "outputs": [
    {
     "data": {
      "text/plain": [
       "1"
      ]
     },
     "execution_count": 48,
     "metadata": {},
     "output_type": "execute_result"
    }
   ],
   "source": [
    "bisect.bisect(a,2)"
   ]
  },
  {
   "cell_type": "code",
   "execution_count": 49,
   "id": "5fda917b-0e0b-490a-8846-f1f049daaeca",
   "metadata": {},
   "outputs": [
    {
     "data": {
      "text/plain": [
       "3"
      ]
     },
     "execution_count": 49,
     "metadata": {},
     "output_type": "execute_result"
    }
   ],
   "source": [
    "bisect.bisect(a,5)"
   ]
  },
  {
   "cell_type": "code",
   "execution_count": 50,
   "id": "c82b4c8c-9db5-463c-b52d-7811dd541ddd",
   "metadata": {},
   "outputs": [],
   "source": [
    "bisect.insort(a,4)"
   ]
  },
  {
   "cell_type": "code",
   "execution_count": 51,
   "id": "0d6e69c2-14e5-43f8-9049-a82bc20917c2",
   "metadata": {},
   "outputs": [
    {
     "data": {
      "text/plain": [
       "[2, 4, 4, 5, 6, 7]"
      ]
     },
     "execution_count": 51,
     "metadata": {},
     "output_type": "execute_result"
    }
   ],
   "source": [
    "a"
   ]
  },
  {
   "cell_type": "code",
   "execution_count": 52,
   "id": "252eb21b-2ef4-4380-917e-269d5a97444a",
   "metadata": {},
   "outputs": [
    {
     "data": {
      "text/plain": [
       "[4, 4]"
      ]
     },
     "execution_count": 52,
     "metadata": {},
     "output_type": "execute_result"
    }
   ],
   "source": [
    "a[1:3]"
   ]
  },
  {
   "cell_type": "code",
   "execution_count": 53,
   "id": "db42c9b6-838e-4000-9600-81024042d9af",
   "metadata": {},
   "outputs": [],
   "source": [
    "a[1:3]=[3,4]"
   ]
  },
  {
   "cell_type": "code",
   "execution_count": 54,
   "id": "9ffb1a4a-387d-4d35-93bf-03904945995f",
   "metadata": {},
   "outputs": [
    {
     "data": {
      "text/plain": [
       "[2, 3, 4, 5, 6, 7]"
      ]
     },
     "execution_count": 54,
     "metadata": {},
     "output_type": "execute_result"
    }
   ],
   "source": [
    "a"
   ]
  },
  {
   "cell_type": "code",
   "execution_count": 55,
   "id": "e225adf1-e793-49a5-90dc-5dca688dbbe0",
   "metadata": {},
   "outputs": [
    {
     "data": {
      "text/plain": [
       "[2, 3, 4, 5]"
      ]
     },
     "execution_count": 55,
     "metadata": {},
     "output_type": "execute_result"
    }
   ],
   "source": [
    "a[:-2]"
   ]
  },
  {
   "cell_type": "code",
   "execution_count": 57,
   "id": "bf2fa223-821a-4a0f-a7fd-e252d8fd06c5",
   "metadata": {},
   "outputs": [
    {
     "data": {
      "text/plain": [
       "[2, 4, 6]"
      ]
     },
     "execution_count": 57,
     "metadata": {},
     "output_type": "execute_result"
    }
   ],
   "source": [
    "a[::2]"
   ]
  },
  {
   "cell_type": "code",
   "execution_count": 58,
   "id": "6311701d-9dd6-4bcc-9675-2e73e42f5c9d",
   "metadata": {},
   "outputs": [
    {
     "data": {
      "text/plain": [
       "[7, 6, 5, 4, 3, 2]"
      ]
     },
     "execution_count": 58,
     "metadata": {},
     "output_type": "execute_result"
    }
   ],
   "source": [
    "a[::-1]"
   ]
  },
  {
   "cell_type": "code",
   "execution_count": 59,
   "id": "1d88b928-c357-4da2-ad9b-cad1bfd925c0",
   "metadata": {},
   "outputs": [],
   "source": [
    "some_list = ['foo', 'bar', 'baz']"
   ]
  },
  {
   "cell_type": "code",
   "execution_count": 60,
   "id": "14f95a9d-dc04-4fba-a8df-f8b525bb41dc",
   "metadata": {},
   "outputs": [],
   "source": [
    "mapping = {}"
   ]
  },
  {
   "cell_type": "code",
   "execution_count": 61,
   "id": "ceb11f19-9fdb-4fe9-acb2-a84403e456c2",
   "metadata": {},
   "outputs": [],
   "source": [
    "for i, value in enumerate(some_list):\n",
    "    mapping[value] = i"
   ]
  },
  {
   "cell_type": "code",
   "execution_count": 62,
   "id": "fbe31cdd-d539-4bde-9b76-d2c38eff974e",
   "metadata": {},
   "outputs": [
    {
     "data": {
      "text/plain": [
       "{'foo': 0, 'bar': 1, 'baz': 2}"
      ]
     },
     "execution_count": 62,
     "metadata": {},
     "output_type": "execute_result"
    }
   ],
   "source": [
    "mapping"
   ]
  },
  {
   "cell_type": "code",
   "execution_count": 71,
   "id": "f5c296e7-038a-498a-b1e2-f05c19e29241",
   "metadata": {},
   "outputs": [],
   "source": [
    "a = [4, 6, 8, 2, 9, 3]"
   ]
  },
  {
   "cell_type": "code",
   "execution_count": 72,
   "id": "785f1ef5-2167-4323-88f3-fc4f8a728b53",
   "metadata": {},
   "outputs": [
    {
     "data": {
      "text/plain": [
       "[2, 3, 4, 6, 8, 9]"
      ]
     },
     "execution_count": 72,
     "metadata": {},
     "output_type": "execute_result"
    }
   ],
   "source": [
    "sorted (a)"
   ]
  },
  {
   "cell_type": "code",
   "execution_count": 73,
   "id": "68623c34-6147-4db8-9f62-ff7debe49eb0",
   "metadata": {},
   "outputs": [],
   "source": [
    "b = ['a', 'b', 'c', 'd', 'e', 'f']"
   ]
  },
  {
   "cell_type": "code",
   "execution_count": 74,
   "id": "be5f1157-c252-4fc2-9bf7-c6a100fb3aff",
   "metadata": {},
   "outputs": [],
   "source": [
    "c =zip(a,b)"
   ]
  },
  {
   "cell_type": "code",
   "execution_count": 75,
   "id": "b1dbf3e6-cade-409c-ac2c-45952b4e3dbf",
   "metadata": {},
   "outputs": [
    {
     "data": {
      "text/plain": [
       "[(4, 'a'), (6, 'b'), (8, 'c'), (2, 'd'), (9, 'e'), (3, 'f')]"
      ]
     },
     "execution_count": 75,
     "metadata": {},
     "output_type": "execute_result"
    }
   ],
   "source": [
    "list(c)"
   ]
  },
  {
   "cell_type": "code",
   "execution_count": 78,
   "id": "37f555ee-3b2f-40f8-befc-6f11e52c1ffe",
   "metadata": {},
   "outputs": [
    {
     "data": {
      "text/plain": [
       "[8, 7, 6, 5, 4, 3, 2, 1, 0]"
      ]
     },
     "execution_count": 78,
     "metadata": {},
     "output_type": "execute_result"
    }
   ],
   "source": [
    "list(reversed(range(9)))"
   ]
  },
  {
   "cell_type": "markdown",
   "id": "1752cc2c-e095-45ab-8b20-c1979f13842a",
   "metadata": {},
   "source": [
    "empty_dict = {}"
   ]
  },
  {
   "cell_type": "code",
   "execution_count": 89,
   "id": "02f1e20f-ab64-4cef-a712-1c7de10813c4",
   "metadata": {},
   "outputs": [],
   "source": [
    "d1 = {'a': '1', 'b':'2'}"
   ]
  },
  {
   "cell_type": "code",
   "execution_count": 90,
   "id": "46520023-a9a9-45c4-87cd-3d95febff5d6",
   "metadata": {},
   "outputs": [
    {
     "data": {
      "text/plain": [
       "{'a': '1', 'b': '2'}"
      ]
     },
     "execution_count": 90,
     "metadata": {},
     "output_type": "execute_result"
    }
   ],
   "source": [
    "d1"
   ]
  },
  {
   "cell_type": "code",
   "execution_count": 91,
   "id": "ee26723b-3c25-46ca-9564-b23973fb80ba",
   "metadata": {},
   "outputs": [],
   "source": [
    "d1['f'] = '3'"
   ]
  },
  {
   "cell_type": "code",
   "execution_count": 92,
   "id": "28442fa7-fce9-43d3-a83c-8d471f0c62c2",
   "metadata": {},
   "outputs": [
    {
     "data": {
      "text/plain": [
       "{'a': '1', 'b': '2', 'f': '3'}"
      ]
     },
     "execution_count": 92,
     "metadata": {},
     "output_type": "execute_result"
    }
   ],
   "source": [
    "d1"
   ]
  },
  {
   "cell_type": "code",
   "execution_count": 93,
   "id": "7aba68ed-ab6a-4364-a1de-280c49cea3ea",
   "metadata": {},
   "outputs": [
    {
     "data": {
      "text/plain": [
       "'2'"
      ]
     },
     "execution_count": 93,
     "metadata": {},
     "output_type": "execute_result"
    }
   ],
   "source": [
    "d1['b']"
   ]
  },
  {
   "cell_type": "code",
   "execution_count": 94,
   "id": "327dc374-c456-44a6-aae0-47feb96173a9",
   "metadata": {},
   "outputs": [],
   "source": [
    "del d1['b']"
   ]
  },
  {
   "cell_type": "code",
   "execution_count": 95,
   "id": "a714c657-afff-4d52-8dd6-83f30aea7c80",
   "metadata": {},
   "outputs": [
    {
     "data": {
      "text/plain": [
       "{'a': '1', 'f': '3'}"
      ]
     },
     "execution_count": 95,
     "metadata": {},
     "output_type": "execute_result"
    }
   ],
   "source": [
    "d1"
   ]
  },
  {
   "cell_type": "code",
   "execution_count": 96,
   "id": "16b7da64-53e4-412a-9211-ee48efa90619",
   "metadata": {},
   "outputs": [],
   "source": [
    "d1.update({'g':'4'})"
   ]
  },
  {
   "cell_type": "code",
   "execution_count": 97,
   "id": "fd481839-aaa7-4a50-a28b-712a2c3ff945",
   "metadata": {},
   "outputs": [
    {
     "data": {
      "text/plain": [
       "{'a': '1', 'f': '3', 'g': '4'}"
      ]
     },
     "execution_count": 97,
     "metadata": {},
     "output_type": "execute_result"
    }
   ],
   "source": [
    "d1"
   ]
  },
  {
   "cell_type": "code",
   "execution_count": 98,
   "id": "840fb684-650d-48d9-86a7-041730727c9d",
   "metadata": {},
   "outputs": [],
   "source": [
    "d1.update({'g':'7'})"
   ]
  },
  {
   "cell_type": "code",
   "execution_count": 99,
   "id": "82f5bf3d-8880-41d9-8e9d-dac39f8f4c95",
   "metadata": {},
   "outputs": [
    {
     "data": {
      "text/plain": [
       "{'a': '1', 'f': '3', 'g': '7'}"
      ]
     },
     "execution_count": 99,
     "metadata": {},
     "output_type": "execute_result"
    }
   ],
   "source": [
    "d1"
   ]
  },
  {
   "cell_type": "code",
   "execution_count": 1,
   "id": "50ecc2cb-12c7-4ee5-bf07-80d687c0a3bc",
   "metadata": {},
   "outputs": [],
   "source": [
    "import numpy as np"
   ]
  },
  {
   "cell_type": "code",
   "execution_count": 2,
   "id": "1a9cdd99-910d-4cbb-aa97-9906f8b6e5d1",
   "metadata": {},
   "outputs": [],
   "source": [
    "my_arr = np.arange(1000000)"
   ]
  },
  {
   "cell_type": "code",
   "execution_count": 3,
   "id": "e288794a-1af6-4a7e-a1e3-d1bcdf8adb36",
   "metadata": {},
   "outputs": [],
   "source": [
    "my_list = list(range(1000000))"
   ]
  },
  {
   "cell_type": "code",
   "execution_count": 4,
   "id": "45c80104-ad16-4b6b-90e3-70c1700f90d0",
   "metadata": {},
   "outputs": [
    {
     "name": "stdout",
     "output_type": "stream",
     "text": [
      "CPU times: total: 46.9 ms\n",
      "Wall time: 29.5 ms\n"
     ]
    }
   ],
   "source": [
    "%time for _ in range(10): my_arr2 = my_arr * 2"
   ]
  },
  {
   "cell_type": "code",
   "execution_count": 5,
   "id": "6501ba4a-fdc8-4d4b-b61f-43c3ae0d3e35",
   "metadata": {},
   "outputs": [
    {
     "name": "stdout",
     "output_type": "stream",
     "text": [
      "CPU times: total: 625 ms\n",
      "Wall time: 630 ms\n"
     ]
    }
   ],
   "source": [
    "%time for _ in range(10): my_list2 = [x*2 for x in my_list]"
   ]
  },
  {
   "cell_type": "code",
   "execution_count": 6,
   "id": "92f40118-b47b-4310-ace9-e81d31342522",
   "metadata": {},
   "outputs": [],
   "source": [
    "data = np.random.randn (2,3)"
   ]
  },
  {
   "cell_type": "code",
   "execution_count": 7,
   "id": "a45bed5b-d37b-46e1-99a5-75db58b9653f",
   "metadata": {},
   "outputs": [
    {
     "data": {
      "text/plain": [
       "array([[-0.66587884,  0.1949177 ,  0.06641323],\n",
       "       [ 0.66734361, -0.41195767, -0.56635463]])"
      ]
     },
     "execution_count": 7,
     "metadata": {},
     "output_type": "execute_result"
    }
   ],
   "source": [
    "data"
   ]
  },
  {
   "cell_type": "code",
   "execution_count": 8,
   "id": "28415cf0-5782-4cc6-966d-ee20c1f7793f",
   "metadata": {},
   "outputs": [
    {
     "data": {
      "text/plain": [
       "array([[-6.65878838,  1.94917699,  0.66413226],\n",
       "       [ 6.67343612, -4.11957669, -5.66354632]])"
      ]
     },
     "execution_count": 8,
     "metadata": {},
     "output_type": "execute_result"
    }
   ],
   "source": [
    "data * 10"
   ]
  },
  {
   "cell_type": "code",
   "execution_count": 9,
   "id": "bdaaad49-44bc-418e-9618-a99b1e891046",
   "metadata": {},
   "outputs": [
    {
     "data": {
      "text/plain": [
       "array([[-1.33175768,  0.3898354 ,  0.13282645],\n",
       "       [ 1.33468722, -0.82391534, -1.13270926]])"
      ]
     },
     "execution_count": 9,
     "metadata": {},
     "output_type": "execute_result"
    }
   ],
   "source": [
    "data + data"
   ]
  },
  {
   "cell_type": "code",
   "execution_count": 10,
   "id": "a20793fa-0950-4373-a158-46033445d627",
   "metadata": {},
   "outputs": [
    {
     "data": {
      "text/plain": [
       "(2, 3)"
      ]
     },
     "execution_count": 10,
     "metadata": {},
     "output_type": "execute_result"
    }
   ],
   "source": [
    "data.shape"
   ]
  },
  {
   "cell_type": "code",
   "execution_count": 11,
   "id": "1c73bfbf-f06a-4399-ac97-1f401b789d0c",
   "metadata": {},
   "outputs": [
    {
     "data": {
      "text/plain": [
       "dtype('float64')"
      ]
     },
     "execution_count": 11,
     "metadata": {},
     "output_type": "execute_result"
    }
   ],
   "source": [
    "data.dtype"
   ]
  },
  {
   "cell_type": "code",
   "execution_count": 12,
   "id": "e5f76448-41a5-467d-8820-e307b56a8c6a",
   "metadata": {},
   "outputs": [],
   "source": [
    "data1 = [4, 6, 2, 8, 9]"
   ]
  },
  {
   "cell_type": "code",
   "execution_count": 13,
   "id": "1745b9cc-cc07-4e59-bf68-22492b20efaa",
   "metadata": {},
   "outputs": [],
   "source": [
    "arr1 = np.array(data1)"
   ]
  },
  {
   "cell_type": "code",
   "execution_count": 14,
   "id": "1d61efe5-c6b1-41a6-9724-6c4a1177361b",
   "metadata": {},
   "outputs": [
    {
     "data": {
      "text/plain": [
       "array([4, 6, 2, 8, 9])"
      ]
     },
     "execution_count": 14,
     "metadata": {},
     "output_type": "execute_result"
    }
   ],
   "source": [
    "arr1"
   ]
  },
  {
   "cell_type": "code",
   "execution_count": 16,
   "id": "cad96be4-d456-4da4-86a2-a87be875a5a4",
   "metadata": {},
   "outputs": [],
   "source": [
    "data2 = [[2, 3, 5, 7],[4, 6, 8, 10]]"
   ]
  },
  {
   "cell_type": "code",
   "execution_count": 17,
   "id": "ef3f9131-04f0-4d95-8bd1-b75c82fa5c96",
   "metadata": {},
   "outputs": [],
   "source": [
    "arr2 = np.array(data2)"
   ]
  },
  {
   "cell_type": "code",
   "execution_count": 18,
   "id": "5ae7f47a-9d10-4020-a5fb-1a995a870eee",
   "metadata": {},
   "outputs": [
    {
     "data": {
      "text/plain": [
       "array([[ 2,  3,  5,  7],\n",
       "       [ 4,  6,  8, 10]])"
      ]
     },
     "execution_count": 18,
     "metadata": {},
     "output_type": "execute_result"
    }
   ],
   "source": [
    "arr2"
   ]
  },
  {
   "cell_type": "code",
   "execution_count": 19,
   "id": "d72f1327-2d11-446e-8a3f-6f00ade59734",
   "metadata": {},
   "outputs": [
    {
     "data": {
      "text/plain": [
       "(2, 4)"
      ]
     },
     "execution_count": 19,
     "metadata": {},
     "output_type": "execute_result"
    }
   ],
   "source": [
    "arr2.shape"
   ]
  },
  {
   "cell_type": "code",
   "execution_count": 21,
   "id": "c04fca7a-061b-4ea3-8a5f-4cd1921c422a",
   "metadata": {},
   "outputs": [
    {
     "data": {
      "text/plain": [
       "dtype('int64')"
      ]
     },
     "execution_count": 21,
     "metadata": {},
     "output_type": "execute_result"
    }
   ],
   "source": [
    "arr1.dtype"
   ]
  },
  {
   "cell_type": "code",
   "execution_count": 22,
   "id": "21216032-549a-465f-bacc-5642a4c2a15a",
   "metadata": {},
   "outputs": [
    {
     "data": {
      "text/plain": [
       "dtype('int64')"
      ]
     },
     "execution_count": 22,
     "metadata": {},
     "output_type": "execute_result"
    }
   ],
   "source": [
    "arr2.dtype"
   ]
  },
  {
   "cell_type": "code",
   "execution_count": 23,
   "id": "4d3d60a9-ab06-4a4e-b1be-73ae8bf70676",
   "metadata": {},
   "outputs": [
    {
     "data": {
      "text/plain": [
       "array([0., 0., 0., 0., 0., 0., 0., 0.])"
      ]
     },
     "execution_count": 23,
     "metadata": {},
     "output_type": "execute_result"
    }
   ],
   "source": [
    "np.zeros(8)"
   ]
  },
  {
   "cell_type": "code",
   "execution_count": 25,
   "id": "ab2691b9-2583-4be7-9e4b-b4444d43037c",
   "metadata": {},
   "outputs": [
    {
     "data": {
      "text/plain": [
       "array([[0., 0., 0., 0.],\n",
       "       [0., 0., 0., 0.],\n",
       "       [0., 0., 0., 0.]])"
      ]
     },
     "execution_count": 25,
     "metadata": {},
     "output_type": "execute_result"
    }
   ],
   "source": [
    "np.zeros((3,4))"
   ]
  },
  {
   "cell_type": "code",
   "execution_count": 26,
   "id": "892b6305-1723-4ac0-8e92-75a9bc728cf8",
   "metadata": {},
   "outputs": [
    {
     "data": {
      "text/plain": [
       "array([[[0., 0., 0., 0.],\n",
       "        [0., 0., 0., 0.],\n",
       "        [0., 0., 0., 0.]],\n",
       "\n",
       "       [[0., 0., 0., 0.],\n",
       "        [0., 0., 0., 0.],\n",
       "        [0., 0., 0., 0.]]])"
      ]
     },
     "execution_count": 26,
     "metadata": {},
     "output_type": "execute_result"
    }
   ],
   "source": [
    "np.zeros((2,3,4))"
   ]
  },
  {
   "cell_type": "code",
   "execution_count": 27,
   "id": "df700caa-8cf9-414c-8e91-6e353ab57651",
   "metadata": {},
   "outputs": [],
   "source": [
    "arr = np.array ([[2, 4, 6], [8, 10, 12]])"
   ]
  },
  {
   "cell_type": "code",
   "execution_count": 28,
   "id": "9005f79f-fbb5-488a-a51b-ab4cdf862d41",
   "metadata": {},
   "outputs": [
    {
     "data": {
      "text/plain": [
       "array([[24. , 12. ,  8. ],\n",
       "       [ 6. ,  4.8,  4. ]])"
      ]
     },
     "execution_count": 28,
     "metadata": {},
     "output_type": "execute_result"
    }
   ],
   "source": [
    "48 / arr"
   ]
  },
  {
   "cell_type": "code",
   "execution_count": 29,
   "id": "0c2c2589-3bfe-4bf1-9dfc-31b83688f389",
   "metadata": {},
   "outputs": [
    {
     "data": {
      "text/plain": [
       "array([[ 4,  8, 12],\n",
       "       [16, 20, 24]])"
      ]
     },
     "execution_count": 29,
     "metadata": {},
     "output_type": "execute_result"
    }
   ],
   "source": [
    "arr * 2"
   ]
  },
  {
   "cell_type": "code",
   "execution_count": 30,
   "id": "bb36f803-a278-49e0-a5ff-2c3bd09ff0d3",
   "metadata": {},
   "outputs": [],
   "source": [
    "arr2 = np.array([[2, 3, 4],[4, 5, 6]])"
   ]
  },
  {
   "cell_type": "code",
   "execution_count": 31,
   "id": "5b816d5c-cdcf-4fb6-b574-618edf27171f",
   "metadata": {},
   "outputs": [
    {
     "data": {
      "text/plain": [
       "array([[False,  True,  True],\n",
       "       [ True,  True,  True]])"
      ]
     },
     "execution_count": 31,
     "metadata": {},
     "output_type": "execute_result"
    }
   ],
   "source": [
    "arr > arr2"
   ]
  },
  {
   "cell_type": "code",
   "execution_count": 32,
   "id": "62f2e518-f904-42ab-b804-38d8f356e25c",
   "metadata": {},
   "outputs": [],
   "source": [
    "arr = np.arange(10)"
   ]
  },
  {
   "cell_type": "code",
   "execution_count": 33,
   "id": "1670e517-cc05-4828-b1b0-a0ca07a2c005",
   "metadata": {},
   "outputs": [
    {
     "data": {
      "text/plain": [
       "array([0, 1, 2, 3, 4, 5, 6, 7, 8, 9])"
      ]
     },
     "execution_count": 33,
     "metadata": {},
     "output_type": "execute_result"
    }
   ],
   "source": [
    "arr"
   ]
  },
  {
   "cell_type": "code",
   "execution_count": 34,
   "id": "9b85d162-f024-4187-80a1-43977d2c03a3",
   "metadata": {},
   "outputs": [
    {
     "data": {
      "text/plain": [
       "array([5, 6, 7])"
      ]
     },
     "execution_count": 34,
     "metadata": {},
     "output_type": "execute_result"
    }
   ],
   "source": [
    "arr[5:8]"
   ]
  },
  {
   "cell_type": "code",
   "execution_count": 35,
   "id": "69701d6d-ea5c-47ee-9037-4ec00eafdd01",
   "metadata": {},
   "outputs": [],
   "source": [
    "arr[5:8] = 12"
   ]
  },
  {
   "cell_type": "code",
   "execution_count": 36,
   "id": "5d172f5d-b371-4de8-8307-d91163d483df",
   "metadata": {},
   "outputs": [
    {
     "data": {
      "text/plain": [
       "array([ 0,  1,  2,  3,  4, 12, 12, 12,  8,  9])"
      ]
     },
     "execution_count": 36,
     "metadata": {},
     "output_type": "execute_result"
    }
   ],
   "source": [
    "arr"
   ]
  },
  {
   "cell_type": "code",
   "execution_count": 40,
   "id": "f6a13c5f-efa6-443a-be6c-80611c190172",
   "metadata": {},
   "outputs": [],
   "source": [
    "arr2 = np.array([[1,2,3],[4,5,6],[7,8,9]])"
   ]
  },
  {
   "cell_type": "code",
   "execution_count": 42,
   "id": "45440316-6999-4375-b50b-fd0509ab592f",
   "metadata": {},
   "outputs": [
    {
     "data": {
      "text/plain": [
       "array([4, 5, 6])"
      ]
     },
     "execution_count": 42,
     "metadata": {},
     "output_type": "execute_result"
    }
   ],
   "source": [
    "arr2[1]"
   ]
  },
  {
   "cell_type": "code",
   "execution_count": 43,
   "id": "6c39e186-c3c8-4c49-b934-3b517f7571d0",
   "metadata": {},
   "outputs": [
    {
     "data": {
      "text/plain": [
       "array([1, 2, 3])"
      ]
     },
     "execution_count": 43,
     "metadata": {},
     "output_type": "execute_result"
    }
   ],
   "source": [
    "arr2[0]"
   ]
  },
  {
   "cell_type": "code",
   "execution_count": 45,
   "id": "dfa15432-0c91-4fbf-a372-51151f76c1cc",
   "metadata": {},
   "outputs": [
    {
     "data": {
      "text/plain": [
       "np.int64(8)"
      ]
     },
     "execution_count": 45,
     "metadata": {},
     "output_type": "execute_result"
    }
   ],
   "source": [
    "arr2[2,1]"
   ]
  },
  {
   "cell_type": "code",
   "execution_count": 46,
   "id": "ed1b35f3-7fed-4d8c-ac3f-f66126bda28c",
   "metadata": {},
   "outputs": [],
   "source": [
    "name = np.array(['apple','pen','book','pen'])"
   ]
  },
  {
   "cell_type": "code",
   "execution_count": 47,
   "id": "ecb4bf6e-297f-40ba-9d31-27ca594cc7f6",
   "metadata": {},
   "outputs": [
    {
     "data": {
      "text/plain": [
       "array(['apple', 'pen', 'book', 'pen'], dtype='<U5')"
      ]
     },
     "execution_count": 47,
     "metadata": {},
     "output_type": "execute_result"
    }
   ],
   "source": [
    "name"
   ]
  },
  {
   "cell_type": "code",
   "execution_count": 48,
   "id": "a36bc8f3-7acd-46a9-b4dc-d220dcf7d82a",
   "metadata": {},
   "outputs": [],
   "source": [
    "data = np.random.randn(4,4)"
   ]
  },
  {
   "cell_type": "code",
   "execution_count": 49,
   "id": "7df40b4f-070d-431e-bd14-829ade229eea",
   "metadata": {},
   "outputs": [
    {
     "data": {
      "text/plain": [
       "array([[ 0.10576791, -0.45773209, -0.42371595, -0.26876556],\n",
       "       [-0.27568454,  0.12735846,  0.58245871, -0.09088769],\n",
       "       [-0.42864811,  0.27020645, -1.84183964,  0.16703221],\n",
       "       [-0.73483155,  0.08146698,  0.1766533 , -0.91965239]])"
      ]
     },
     "execution_count": 49,
     "metadata": {},
     "output_type": "execute_result"
    }
   ],
   "source": [
    "data"
   ]
  },
  {
   "cell_type": "code",
   "execution_count": 50,
   "id": "59f7e928-19dd-4e40-98b4-5840c4b128c4",
   "metadata": {},
   "outputs": [
    {
     "data": {
      "text/plain": [
       "array([False,  True, False,  True])"
      ]
     },
     "execution_count": 50,
     "metadata": {},
     "output_type": "execute_result"
    }
   ],
   "source": [
    "name == 'pen'"
   ]
  },
  {
   "cell_type": "code",
   "execution_count": 51,
   "id": "14d6a65b-d794-4244-8feb-ed4011f81a0e",
   "metadata": {},
   "outputs": [
    {
     "data": {
      "text/plain": [
       "array([[-0.27568454,  0.12735846,  0.58245871, -0.09088769],\n",
       "       [-0.73483155,  0.08146698,  0.1766533 , -0.91965239]])"
      ]
     },
     "execution_count": 51,
     "metadata": {},
     "output_type": "execute_result"
    }
   ],
   "source": [
    "data[name == 'pen']"
   ]
  },
  {
   "cell_type": "code",
   "execution_count": 52,
   "id": "497314eb-deda-4793-9272-997535c5af88",
   "metadata": {},
   "outputs": [
    {
     "data": {
      "text/plain": [
       "array([-0.09088769, -0.91965239])"
      ]
     },
     "execution_count": 52,
     "metadata": {},
     "output_type": "execute_result"
    }
   ],
   "source": [
    "data[name == 'pen', 3]"
   ]
  },
  {
   "cell_type": "code",
   "execution_count": 53,
   "id": "a27efbab-fdd7-456f-94f6-b69275dd5178",
   "metadata": {},
   "outputs": [
    {
     "data": {
      "text/plain": [
       "array([ True, False,  True, False])"
      ]
     },
     "execution_count": 53,
     "metadata": {},
     "output_type": "execute_result"
    }
   ],
   "source": [
    "name != 'pen'"
   ]
  },
  {
   "cell_type": "code",
   "execution_count": 54,
   "id": "2d375468-697b-4d4d-ab27-37be564761fd",
   "metadata": {},
   "outputs": [],
   "source": [
    "data[name == 'pen'] = 3"
   ]
  },
  {
   "cell_type": "code",
   "execution_count": 55,
   "id": "a0752dcf-4ab7-4832-8f95-1df9cc5d28dd",
   "metadata": {},
   "outputs": [
    {
     "data": {
      "text/plain": [
       "array([[ 0.10576791, -0.45773209, -0.42371595, -0.26876556],\n",
       "       [ 3.        ,  3.        ,  3.        ,  3.        ],\n",
       "       [-0.42864811,  0.27020645, -1.84183964,  0.16703221],\n",
       "       [ 3.        ,  3.        ,  3.        ,  3.        ]])"
      ]
     },
     "execution_count": 55,
     "metadata": {},
     "output_type": "execute_result"
    }
   ],
   "source": [
    "data"
   ]
  },
  {
   "cell_type": "code",
   "execution_count": 56,
   "id": "3eb949cd-03d3-4f57-aac9-0a1792fc205e",
   "metadata": {},
   "outputs": [],
   "source": [
    "arr = np.arange(8)"
   ]
  },
  {
   "cell_type": "code",
   "execution_count": 57,
   "id": "4a6d9052-57f3-491d-b666-f6437d688c54",
   "metadata": {},
   "outputs": [
    {
     "data": {
      "text/plain": [
       "array([0, 1, 2, 3, 4, 5, 6, 7])"
      ]
     },
     "execution_count": 57,
     "metadata": {},
     "output_type": "execute_result"
    }
   ],
   "source": [
    "arr"
   ]
  },
  {
   "cell_type": "code",
   "execution_count": 58,
   "id": "7449d48a-b114-456f-9f30-e440c7721f56",
   "metadata": {},
   "outputs": [],
   "source": [
    "arr = np.arange(8). reshape(2,4)"
   ]
  },
  {
   "cell_type": "code",
   "execution_count": 59,
   "id": "4ceb9870-9e5a-46e7-ad39-f4a46dcb0cc7",
   "metadata": {},
   "outputs": [
    {
     "data": {
      "text/plain": [
       "array([[0, 1, 2, 3],\n",
       "       [4, 5, 6, 7]])"
      ]
     },
     "execution_count": 59,
     "metadata": {},
     "output_type": "execute_result"
    }
   ],
   "source": [
    "arr"
   ]
  },
  {
   "cell_type": "code",
   "execution_count": 60,
   "id": "329f35be-04b6-44ed-bf24-6b67a433ebaf",
   "metadata": {},
   "outputs": [
    {
     "data": {
      "text/plain": [
       "array([[0, 4],\n",
       "       [1, 5],\n",
       "       [2, 6],\n",
       "       [3, 7]])"
      ]
     },
     "execution_count": 60,
     "metadata": {},
     "output_type": "execute_result"
    }
   ],
   "source": [
    "arr.T"
   ]
  },
  {
   "cell_type": "code",
   "execution_count": 63,
   "id": "a02c1422-f39a-446b-b82e-4b47f1c25a46",
   "metadata": {},
   "outputs": [],
   "source": [
    "arr = np.arange(16). reshape((2,2,4))"
   ]
  },
  {
   "cell_type": "code",
   "execution_count": 64,
   "id": "c88e83d8-f525-4429-b09e-b9903dc68060",
   "metadata": {},
   "outputs": [
    {
     "data": {
      "text/plain": [
       "array([[[ 0,  1,  2,  3],\n",
       "        [ 4,  5,  6,  7]],\n",
       "\n",
       "       [[ 8,  9, 10, 11],\n",
       "        [12, 13, 14, 15]]])"
      ]
     },
     "execution_count": 64,
     "metadata": {},
     "output_type": "execute_result"
    }
   ],
   "source": [
    "arr"
   ]
  },
  {
   "cell_type": "code",
   "execution_count": 65,
   "id": "cd19bfb2-695a-4ac9-9c80-8c9f2ea4871f",
   "metadata": {},
   "outputs": [
    {
     "data": {
      "text/plain": [
       "array([[[ 0,  1,  2,  3],\n",
       "        [ 8,  9, 10, 11]],\n",
       "\n",
       "       [[ 4,  5,  6,  7],\n",
       "        [12, 13, 14, 15]]])"
      ]
     },
     "execution_count": 65,
     "metadata": {},
     "output_type": "execute_result"
    }
   ],
   "source": [
    "arr.transpose(1,0,2)"
   ]
  },
  {
   "cell_type": "code",
   "execution_count": 66,
   "id": "c75be90f-5d8f-43b9-add8-55acfaef47a2",
   "metadata": {},
   "outputs": [],
   "source": [
    "arr = np.arange(6)"
   ]
  },
  {
   "cell_type": "code",
   "execution_count": 67,
   "id": "814ce6e0-4c6e-431e-a253-0fffad142c3c",
   "metadata": {},
   "outputs": [
    {
     "data": {
      "text/plain": [
       "array([0, 1, 2, 3, 4, 5])"
      ]
     },
     "execution_count": 67,
     "metadata": {},
     "output_type": "execute_result"
    }
   ],
   "source": [
    "arr"
   ]
  },
  {
   "cell_type": "code",
   "execution_count": 68,
   "id": "096c00ee-82d4-4f2d-be02-8490b72a3391",
   "metadata": {},
   "outputs": [
    {
     "data": {
      "text/plain": [
       "array([0.        , 1.        , 1.41421356, 1.73205081, 2.        ,\n",
       "       2.23606798])"
      ]
     },
     "execution_count": 68,
     "metadata": {},
     "output_type": "execute_result"
    }
   ],
   "source": [
    "np.sqrt(arr)"
   ]
  },
  {
   "cell_type": "code",
   "execution_count": 69,
   "id": "44b84b0e-3dd9-4afb-9c64-d8418b91544d",
   "metadata": {},
   "outputs": [
    {
     "data": {
      "text/plain": [
       "array([  1.        ,   2.71828183,   7.3890561 ,  20.08553692,\n",
       "        54.59815003, 148.4131591 ])"
      ]
     },
     "execution_count": 69,
     "metadata": {},
     "output_type": "execute_result"
    }
   ],
   "source": [
    "np.exp(arr)"
   ]
  },
  {
   "cell_type": "code",
   "execution_count": 71,
   "id": "a7a615b3-b6d8-4a74-a1eb-5aae3178ad2f",
   "metadata": {},
   "outputs": [],
   "source": [
    "arr2 = np.random.randn(6)"
   ]
  },
  {
   "cell_type": "code",
   "execution_count": 72,
   "id": "24c90745-e8d6-44d7-91c0-84d9fc706517",
   "metadata": {},
   "outputs": [
    {
     "data": {
      "text/plain": [
       "array([-0.67513708,  0.47041261,  0.14622716,  0.04949032,  1.00395674,\n",
       "        0.05420702])"
      ]
     },
     "execution_count": 72,
     "metadata": {},
     "output_type": "execute_result"
    }
   ],
   "source": [
    "arr2"
   ]
  },
  {
   "cell_type": "code",
   "execution_count": 73,
   "id": "0a2d8862-98d7-4067-943e-e944e90e69b2",
   "metadata": {},
   "outputs": [
    {
     "data": {
      "text/plain": [
       "array([0., 1., 2., 3., 4., 5.])"
      ]
     },
     "execution_count": 73,
     "metadata": {},
     "output_type": "execute_result"
    }
   ],
   "source": [
    "np.maximum(arr, arr2)"
   ]
  },
  {
   "cell_type": "code",
   "execution_count": 74,
   "id": "70dd34b1-9f68-4f7d-8fc1-2060870bb912",
   "metadata": {},
   "outputs": [],
   "source": [
    "x = np.array([1.1, 1.2, 1.3, 1.4, 1.5])"
   ]
  },
  {
   "cell_type": "code",
   "execution_count": 75,
   "id": "93100bd1-f05d-4f51-811b-f87219a5d735",
   "metadata": {},
   "outputs": [],
   "source": [
    "y = np.array([2.1, 2.2, 2.3, 2.4, 2.5])"
   ]
  },
  {
   "cell_type": "code",
   "execution_count": 76,
   "id": "58ba9dcd-6d73-4914-a6dd-7bccf1e9c056",
   "metadata": {},
   "outputs": [],
   "source": [
    "c = np.array([True, False, True, True, False])"
   ]
  },
  {
   "cell_type": "code",
   "execution_count": 77,
   "id": "761d5860-8a1a-4bec-a984-093f7912e494",
   "metadata": {},
   "outputs": [],
   "source": [
    "result = np.where(c,x,y)"
   ]
  },
  {
   "cell_type": "code",
   "execution_count": 78,
   "id": "a9253601-2909-452e-826f-47dd3980d9ca",
   "metadata": {},
   "outputs": [
    {
     "data": {
      "text/plain": [
       "array([1.1, 2.2, 1.3, 1.4, 2.5])"
      ]
     },
     "execution_count": 78,
     "metadata": {},
     "output_type": "execute_result"
    }
   ],
   "source": [
    "result"
   ]
  },
  {
   "cell_type": "code",
   "execution_count": 79,
   "id": "97134c5a-85ab-4afd-8d58-93aa16e21175",
   "metadata": {},
   "outputs": [],
   "source": [
    "arr = np.random.randn(2,2)"
   ]
  },
  {
   "cell_type": "code",
   "execution_count": 80,
   "id": "b1dd4e07-debe-427b-aaef-05b319e98b36",
   "metadata": {},
   "outputs": [
    {
     "data": {
      "text/plain": [
       "array([[-0.72750217,  0.78525922],\n",
       "       [ 1.02259321,  0.81735171]])"
      ]
     },
     "execution_count": 80,
     "metadata": {},
     "output_type": "execute_result"
    }
   ],
   "source": [
    "arr"
   ]
  },
  {
   "cell_type": "code",
   "execution_count": 81,
   "id": "41e86085-1cde-4295-a3b2-33afe621e42a",
   "metadata": {},
   "outputs": [
    {
     "data": {
      "text/plain": [
       "array([[False,  True],\n",
       "       [ True,  True]])"
      ]
     },
     "execution_count": 81,
     "metadata": {},
     "output_type": "execute_result"
    }
   ],
   "source": [
    "arr>0"
   ]
  },
  {
   "cell_type": "code",
   "execution_count": 82,
   "id": "feefeea9-4596-453d-a822-aa722db636b7",
   "metadata": {},
   "outputs": [],
   "source": [
    "result = np.where(arr>0,1,0)"
   ]
  },
  {
   "cell_type": "code",
   "execution_count": 83,
   "id": "8620ec59-0c3a-47f8-b6b9-73dce11d9428",
   "metadata": {},
   "outputs": [
    {
     "data": {
      "text/plain": [
       "array([[0, 1],\n",
       "       [1, 1]])"
      ]
     },
     "execution_count": 83,
     "metadata": {},
     "output_type": "execute_result"
    }
   ],
   "source": [
    "result"
   ]
  },
  {
   "cell_type": "code",
   "execution_count": 85,
   "id": "8dbb5024-a49a-4208-8b2f-96ca0dab90c9",
   "metadata": {},
   "outputs": [
    {
     "data": {
      "text/plain": [
       "np.float64(0.4744254920273385)"
      ]
     },
     "execution_count": 85,
     "metadata": {},
     "output_type": "execute_result"
    }
   ],
   "source": [
    "arr.mean()"
   ]
  },
  {
   "cell_type": "code",
   "execution_count": 86,
   "id": "5859b129-6257-4982-8283-5a5b2205a9ea",
   "metadata": {},
   "outputs": [
    {
     "data": {
      "text/plain": [
       "np.float64(1.897701968109354)"
      ]
     },
     "execution_count": 86,
     "metadata": {},
     "output_type": "execute_result"
    }
   ],
   "source": [
    "arr.sum()"
   ]
  },
  {
   "cell_type": "code",
   "execution_count": 87,
   "id": "f31ac913-837b-4da8-a37c-dfba17482943",
   "metadata": {},
   "outputs": [
    {
     "data": {
      "text/plain": [
       "np.int64(3)"
      ]
     },
     "execution_count": 87,
     "metadata": {},
     "output_type": "execute_result"
    }
   ],
   "source": [
    "(arr>0).sum()"
   ]
  },
  {
   "cell_type": "code",
   "execution_count": 88,
   "id": "7ed0b40d-22ba-49c0-b27e-db9770916e63",
   "metadata": {},
   "outputs": [
    {
     "data": {
      "text/plain": [
       "np.True_"
      ]
     },
     "execution_count": 88,
     "metadata": {},
     "output_type": "execute_result"
    }
   ],
   "source": [
    "(arr>0).any()"
   ]
  },
  {
   "cell_type": "code",
   "execution_count": 89,
   "id": "1251e99a-8e30-448a-93ff-75b9eea0e0d6",
   "metadata": {},
   "outputs": [
    {
     "data": {
      "text/plain": [
       "np.False_"
      ]
     },
     "execution_count": 89,
     "metadata": {},
     "output_type": "execute_result"
    }
   ],
   "source": [
    "(arr>0).all()"
   ]
  },
  {
   "cell_type": "code",
   "execution_count": 90,
   "id": "0554bd50-c206-4a51-806a-6a932304662e",
   "metadata": {},
   "outputs": [],
   "source": [
    "arr=np.random.randn(8)"
   ]
  },
  {
   "cell_type": "code",
   "execution_count": 91,
   "id": "000a2a10-43c0-4e0c-8c41-21438635f52e",
   "metadata": {},
   "outputs": [
    {
     "data": {
      "text/plain": [
       "array([-0.01868717, -0.54959075,  0.42717973,  0.2096907 , -0.02582975,\n",
       "       -0.15807096, -2.16887426,  0.56844994])"
      ]
     },
     "execution_count": 91,
     "metadata": {},
     "output_type": "execute_result"
    }
   ],
   "source": [
    "arr"
   ]
  },
  {
   "cell_type": "code",
   "execution_count": 92,
   "id": "feeb356b-d351-4a44-bcb5-f723894ab73e",
   "metadata": {},
   "outputs": [],
   "source": [
    "arr.sort()"
   ]
  },
  {
   "cell_type": "code",
   "execution_count": 93,
   "id": "ea262aef-09c2-4df2-80b9-2a511a474c6a",
   "metadata": {},
   "outputs": [
    {
     "data": {
      "text/plain": [
       "array([-2.16887426, -0.54959075, -0.15807096, -0.02582975, -0.01868717,\n",
       "        0.2096907 ,  0.42717973,  0.56844994])"
      ]
     },
     "execution_count": 93,
     "metadata": {},
     "output_type": "execute_result"
    }
   ],
   "source": [
    "arr"
   ]
  },
  {
   "cell_type": "code",
   "execution_count": 94,
   "id": "41ca2d46-9a11-457d-b3ba-9d32ee150919",
   "metadata": {},
   "outputs": [],
   "source": [
    "import pandas as pd"
   ]
  },
  {
   "cell_type": "code",
   "execution_count": 96,
   "id": "563ea52a-f057-4c24-ab21-bf69edd29d4a",
   "metadata": {},
   "outputs": [],
   "source": [
    "from pandas import Series, DataFrame"
   ]
  },
  {
   "cell_type": "code",
   "execution_count": 97,
   "id": "acc2fdbc-1691-43ef-bf82-136e9a23d853",
   "metadata": {},
   "outputs": [],
   "source": [
    "obj = pd.Series([3, 4, 5, 6])"
   ]
  },
  {
   "cell_type": "code",
   "execution_count": 98,
   "id": "adfaa488-dec0-4117-8149-8b56746f9619",
   "metadata": {},
   "outputs": [
    {
     "data": {
      "text/plain": [
       "0    3\n",
       "1    4\n",
       "2    5\n",
       "3    6\n",
       "dtype: int64"
      ]
     },
     "execution_count": 98,
     "metadata": {},
     "output_type": "execute_result"
    }
   ],
   "source": [
    "obj"
   ]
  },
  {
   "cell_type": "code",
   "execution_count": 99,
   "id": "5289a0d2-e5b1-40ef-a3d6-01d51f467c75",
   "metadata": {},
   "outputs": [
    {
     "data": {
      "text/plain": [
       "array([3, 4, 5, 6])"
      ]
     },
     "execution_count": 99,
     "metadata": {},
     "output_type": "execute_result"
    }
   ],
   "source": [
    "obj.values"
   ]
  },
  {
   "cell_type": "code",
   "execution_count": 100,
   "id": "ebc4736d-a415-48ee-adc6-b4571222e654",
   "metadata": {},
   "outputs": [
    {
     "data": {
      "text/plain": [
       "RangeIndex(start=0, stop=4, step=1)"
      ]
     },
     "execution_count": 100,
     "metadata": {},
     "output_type": "execute_result"
    }
   ],
   "source": [
    "obj.index"
   ]
  },
  {
   "cell_type": "code",
   "execution_count": 101,
   "id": "0c419b2e-0bf7-4fcb-973a-7b749e9778c4",
   "metadata": {},
   "outputs": [
    {
     "data": {
      "text/plain": [
       "np.int64(6)"
      ]
     },
     "execution_count": 101,
     "metadata": {},
     "output_type": "execute_result"
    }
   ],
   "source": [
    "obj[3]"
   ]
  },
  {
   "cell_type": "code",
   "execution_count": 103,
   "id": "e23b316f-221b-4537-b7f8-590222f518da",
   "metadata": {},
   "outputs": [
    {
     "data": {
      "text/plain": [
       "3    6\n",
       "1    4\n",
       "dtype: int64"
      ]
     },
     "execution_count": 103,
     "metadata": {},
     "output_type": "execute_result"
    }
   ],
   "source": [
    "obj[[3,1]]"
   ]
  },
  {
   "cell_type": "code",
   "execution_count": 104,
   "id": "faac11d2-8f1b-43a5-9bfd-0400b9864e53",
   "metadata": {},
   "outputs": [
    {
     "data": {
      "text/plain": [
       "0     6\n",
       "1     8\n",
       "2    10\n",
       "3    12\n",
       "dtype: int64"
      ]
     },
     "execution_count": 104,
     "metadata": {},
     "output_type": "execute_result"
    }
   ],
   "source": [
    "obj*2"
   ]
  },
  {
   "cell_type": "code",
   "execution_count": 105,
   "id": "3e0b27ef-1cf0-4f97-aa68-1ee3da45c196",
   "metadata": {},
   "outputs": [
    {
     "data": {
      "text/plain": [
       "0     20.085537\n",
       "1     54.598150\n",
       "2    148.413159\n",
       "3    403.428793\n",
       "dtype: float64"
      ]
     },
     "execution_count": 105,
     "metadata": {},
     "output_type": "execute_result"
    }
   ],
   "source": [
    "np.exp(obj)"
   ]
  },
  {
   "cell_type": "code",
   "execution_count": 108,
   "id": "9aa79c37-721d-4175-87f2-8609ad815c0e",
   "metadata": {},
   "outputs": [
    {
     "data": {
      "text/plain": [
       "True"
      ]
     },
     "execution_count": 108,
     "metadata": {},
     "output_type": "execute_result"
    }
   ],
   "source": [
    "2 in obj*2"
   ]
  },
  {
   "cell_type": "code",
   "execution_count": 109,
   "id": "fafc43ff-c760-4b69-8e54-8f5280d92d68",
   "metadata": {},
   "outputs": [
    {
     "data": {
      "text/plain": [
       "0    False\n",
       "1    False\n",
       "2    False\n",
       "3    False\n",
       "dtype: bool"
      ]
     },
     "execution_count": 109,
     "metadata": {},
     "output_type": "execute_result"
    }
   ],
   "source": [
    "pd.isnull(obj)"
   ]
  },
  {
   "cell_type": "code",
   "execution_count": 110,
   "id": "cf85c662-b8f4-4cc1-a8fe-e8bfdd763493",
   "metadata": {},
   "outputs": [
    {
     "data": {
      "text/plain": [
       "0    True\n",
       "1    True\n",
       "2    True\n",
       "3    True\n",
       "dtype: bool"
      ]
     },
     "execution_count": 110,
     "metadata": {},
     "output_type": "execute_result"
    }
   ],
   "source": [
    "pd.notnull(obj)"
   ]
  },
  {
   "cell_type": "code",
   "execution_count": 111,
   "id": "7ec7b240-8c66-4aec-b367-cb8464afc54f",
   "metadata": {},
   "outputs": [],
   "source": [
    "obj.name = 'score'"
   ]
  },
  {
   "cell_type": "code",
   "execution_count": 112,
   "id": "ed864f1c-bb66-4c8f-ad8f-8069bdc695fb",
   "metadata": {},
   "outputs": [],
   "source": [
    "obj.index.name = 'ID'"
   ]
  },
  {
   "cell_type": "code",
   "execution_count": 113,
   "id": "deba7162-1b37-452a-b247-49c8aa05b54c",
   "metadata": {},
   "outputs": [
    {
     "data": {
      "text/plain": [
       "ID\n",
       "0    3\n",
       "1    4\n",
       "2    5\n",
       "3    6\n",
       "Name: score, dtype: int64"
      ]
     },
     "execution_count": 113,
     "metadata": {},
     "output_type": "execute_result"
    }
   ],
   "source": [
    "obj"
   ]
  },
  {
   "cell_type": "code",
   "execution_count": 115,
   "id": "e0139d22-879a-4d41-a4ff-f9da650626a0",
   "metadata": {},
   "outputs": [],
   "source": [
    "obj.index= ['a', 'b', 'c', 'd']"
   ]
  },
  {
   "cell_type": "code",
   "execution_count": 116,
   "id": "d9de7c6d-d7d6-4b60-8688-e9e7656bd051",
   "metadata": {},
   "outputs": [
    {
     "data": {
      "text/plain": [
       "a    3\n",
       "b    4\n",
       "c    5\n",
       "d    6\n",
       "Name: score, dtype: int64"
      ]
     },
     "execution_count": 116,
     "metadata": {},
     "output_type": "execute_result"
    }
   ],
   "source": [
    "obj"
   ]
  },
  {
   "cell_type": "code",
   "execution_count": 117,
   "id": "6765a735-9bd3-419e-9a89-92d86867bbc6",
   "metadata": {},
   "outputs": [],
   "source": [
    "data = {'ID':[1,2,3],'Score':[100,99,66],'Rank':[1,2,3]}"
   ]
  },
  {
   "cell_type": "code",
   "execution_count": 118,
   "id": "01ec1bc6-455b-4373-b299-28d20e3ac078",
   "metadata": {},
   "outputs": [],
   "source": [
    "frame = pd.DataFrame(data)"
   ]
  },
  {
   "cell_type": "code",
   "execution_count": 119,
   "id": "7370949d-7dae-4be9-990f-0d74efae81df",
   "metadata": {},
   "outputs": [
    {
     "data": {
      "text/html": [
       "<div>\n",
       "<style scoped>\n",
       "    .dataframe tbody tr th:only-of-type {\n",
       "        vertical-align: middle;\n",
       "    }\n",
       "\n",
       "    .dataframe tbody tr th {\n",
       "        vertical-align: top;\n",
       "    }\n",
       "\n",
       "    .dataframe thead th {\n",
       "        text-align: right;\n",
       "    }\n",
       "</style>\n",
       "<table border=\"1\" class=\"dataframe\">\n",
       "  <thead>\n",
       "    <tr style=\"text-align: right;\">\n",
       "      <th></th>\n",
       "      <th>ID</th>\n",
       "      <th>Score</th>\n",
       "      <th>Rank</th>\n",
       "    </tr>\n",
       "  </thead>\n",
       "  <tbody>\n",
       "    <tr>\n",
       "      <th>0</th>\n",
       "      <td>1</td>\n",
       "      <td>100</td>\n",
       "      <td>1</td>\n",
       "    </tr>\n",
       "    <tr>\n",
       "      <th>1</th>\n",
       "      <td>2</td>\n",
       "      <td>99</td>\n",
       "      <td>2</td>\n",
       "    </tr>\n",
       "    <tr>\n",
       "      <th>2</th>\n",
       "      <td>3</td>\n",
       "      <td>66</td>\n",
       "      <td>3</td>\n",
       "    </tr>\n",
       "  </tbody>\n",
       "</table>\n",
       "</div>"
      ],
      "text/plain": [
       "   ID  Score  Rank\n",
       "0   1    100     1\n",
       "1   2     99     2\n",
       "2   3     66     3"
      ]
     },
     "execution_count": 119,
     "metadata": {},
     "output_type": "execute_result"
    }
   ],
   "source": [
    "frame"
   ]
  },
  {
   "cell_type": "code",
   "execution_count": 120,
   "id": "b21a0b9e-68e3-4f7c-958b-4ab9a8aafe68",
   "metadata": {},
   "outputs": [
    {
     "data": {
      "text/html": [
       "<div>\n",
       "<style scoped>\n",
       "    .dataframe tbody tr th:only-of-type {\n",
       "        vertical-align: middle;\n",
       "    }\n",
       "\n",
       "    .dataframe tbody tr th {\n",
       "        vertical-align: top;\n",
       "    }\n",
       "\n",
       "    .dataframe thead th {\n",
       "        text-align: right;\n",
       "    }\n",
       "</style>\n",
       "<table border=\"1\" class=\"dataframe\">\n",
       "  <thead>\n",
       "    <tr style=\"text-align: right;\">\n",
       "      <th></th>\n",
       "      <th>ID</th>\n",
       "      <th>Score</th>\n",
       "      <th>Rank</th>\n",
       "    </tr>\n",
       "  </thead>\n",
       "  <tbody>\n",
       "    <tr>\n",
       "      <th>0</th>\n",
       "      <td>1</td>\n",
       "      <td>100</td>\n",
       "      <td>1</td>\n",
       "    </tr>\n",
       "  </tbody>\n",
       "</table>\n",
       "</div>"
      ],
      "text/plain": [
       "   ID  Score  Rank\n",
       "0   1    100     1"
      ]
     },
     "execution_count": 120,
     "metadata": {},
     "output_type": "execute_result"
    }
   ],
   "source": [
    "frame.head(1)"
   ]
  },
  {
   "cell_type": "code",
   "execution_count": 121,
   "id": "24cf39c1-0f85-4dff-902c-fe0b181f1afb",
   "metadata": {},
   "outputs": [
    {
     "data": {
      "text/plain": [
       "0    100\n",
       "1     99\n",
       "2     66\n",
       "Name: Score, dtype: int64"
      ]
     },
     "execution_count": 121,
     "metadata": {},
     "output_type": "execute_result"
    }
   ],
   "source": [
    "frame['Score']"
   ]
  },
  {
   "cell_type": "code",
   "execution_count": 123,
   "id": "ee0166ee-7a73-4685-985a-d703939f395a",
   "metadata": {},
   "outputs": [],
   "source": [
    "del frame['Rank']"
   ]
  },
  {
   "cell_type": "code",
   "execution_count": 124,
   "id": "618c141a-1a07-46a6-a514-45df862232bd",
   "metadata": {},
   "outputs": [
    {
     "data": {
      "text/html": [
       "<div>\n",
       "<style scoped>\n",
       "    .dataframe tbody tr th:only-of-type {\n",
       "        vertical-align: middle;\n",
       "    }\n",
       "\n",
       "    .dataframe tbody tr th {\n",
       "        vertical-align: top;\n",
       "    }\n",
       "\n",
       "    .dataframe thead th {\n",
       "        text-align: right;\n",
       "    }\n",
       "</style>\n",
       "<table border=\"1\" class=\"dataframe\">\n",
       "  <thead>\n",
       "    <tr style=\"text-align: right;\">\n",
       "      <th></th>\n",
       "      <th>ID</th>\n",
       "      <th>Score</th>\n",
       "    </tr>\n",
       "  </thead>\n",
       "  <tbody>\n",
       "    <tr>\n",
       "      <th>0</th>\n",
       "      <td>1</td>\n",
       "      <td>100</td>\n",
       "    </tr>\n",
       "    <tr>\n",
       "      <th>1</th>\n",
       "      <td>2</td>\n",
       "      <td>99</td>\n",
       "    </tr>\n",
       "    <tr>\n",
       "      <th>2</th>\n",
       "      <td>3</td>\n",
       "      <td>66</td>\n",
       "    </tr>\n",
       "  </tbody>\n",
       "</table>\n",
       "</div>"
      ],
      "text/plain": [
       "   ID  Score\n",
       "0   1    100\n",
       "1   2     99\n",
       "2   3     66"
      ]
     },
     "execution_count": 124,
     "metadata": {},
     "output_type": "execute_result"
    }
   ],
   "source": [
    "frame"
   ]
  },
  {
   "cell_type": "code",
   "execution_count": 125,
   "id": "ec275cf1-d862-4b09-859c-ae8af0b3835e",
   "metadata": {},
   "outputs": [
    {
     "data": {
      "text/html": [
       "<div>\n",
       "<style scoped>\n",
       "    .dataframe tbody tr th:only-of-type {\n",
       "        vertical-align: middle;\n",
       "    }\n",
       "\n",
       "    .dataframe tbody tr th {\n",
       "        vertical-align: top;\n",
       "    }\n",
       "\n",
       "    .dataframe thead th {\n",
       "        text-align: right;\n",
       "    }\n",
       "</style>\n",
       "<table border=\"1\" class=\"dataframe\">\n",
       "  <thead>\n",
       "    <tr style=\"text-align: right;\">\n",
       "      <th></th>\n",
       "      <th>0</th>\n",
       "      <th>1</th>\n",
       "      <th>2</th>\n",
       "    </tr>\n",
       "  </thead>\n",
       "  <tbody>\n",
       "    <tr>\n",
       "      <th>ID</th>\n",
       "      <td>1</td>\n",
       "      <td>2</td>\n",
       "      <td>3</td>\n",
       "    </tr>\n",
       "    <tr>\n",
       "      <th>Score</th>\n",
       "      <td>100</td>\n",
       "      <td>99</td>\n",
       "      <td>66</td>\n",
       "    </tr>\n",
       "  </tbody>\n",
       "</table>\n",
       "</div>"
      ],
      "text/plain": [
       "         0   1   2\n",
       "ID       1   2   3\n",
       "Score  100  99  66"
      ]
     },
     "execution_count": 125,
     "metadata": {},
     "output_type": "execute_result"
    }
   ],
   "source": [
    "frame.T"
   ]
  },
  {
   "cell_type": "code",
   "execution_count": null,
   "id": "4f18edab-dca4-4185-958a-0c13a0f2463f",
   "metadata": {},
   "outputs": [],
   "source": []
  }
 ],
 "metadata": {
  "kernelspec": {
   "display_name": "Python 3 (ipykernel)",
   "language": "python",
   "name": "python3"
  },
  "language_info": {
   "codemirror_mode": {
    "name": "ipython",
    "version": 3
   },
   "file_extension": ".py",
   "mimetype": "text/x-python",
   "name": "python",
   "nbconvert_exporter": "python",
   "pygments_lexer": "ipython3",
   "version": "3.13.5"
  }
 },
 "nbformat": 4,
 "nbformat_minor": 5
}
